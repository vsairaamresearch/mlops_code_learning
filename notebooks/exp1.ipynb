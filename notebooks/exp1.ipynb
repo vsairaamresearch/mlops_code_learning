{
 "cells": [
  {
   "cell_type": "code",
   "execution_count": 1,
   "id": "c0c10ee3",
   "metadata": {},
   "outputs": [],
   "source": [
    "import mlflow\n",
    "import pandas as pd\n",
    "import xgboost\n",
    "import mlflow.sklearn\n",
    "from sklearn.model_selection import TimeSeriesSplit\n",
    "from xgboost import XGBRegressor\n",
    "from sklearn.metrics import mean_squared_error"
   ]
  },
  {
   "cell_type": "code",
   "execution_count": 2,
   "id": "530009b1",
   "metadata": {},
   "outputs": [
    {
     "name": "stdout",
     "output_type": "stream",
     "text": [
      "['Datetime', 'PJME_MW']\n"
     ]
    }
   ],
   "source": [
    "#load dataframe\n",
    "df = pd.read_csv(\"PJME_hourly.csv\")\n",
    "print(list(df.columns))"
   ]
  },
  {
   "cell_type": "code",
   "execution_count": 3,
   "id": "36239c2a",
   "metadata": {},
   "outputs": [
    {
     "data": {
      "text/html": [
       "<div>\n",
       "<style scoped>\n",
       "    .dataframe tbody tr th:only-of-type {\n",
       "        vertical-align: middle;\n",
       "    }\n",
       "\n",
       "    .dataframe tbody tr th {\n",
       "        vertical-align: top;\n",
       "    }\n",
       "\n",
       "    .dataframe thead th {\n",
       "        text-align: right;\n",
       "    }\n",
       "</style>\n",
       "<table border=\"1\" class=\"dataframe\">\n",
       "  <thead>\n",
       "    <tr style=\"text-align: right;\">\n",
       "      <th></th>\n",
       "      <th>Datetime</th>\n",
       "      <th>PJME_MW</th>\n",
       "    </tr>\n",
       "  </thead>\n",
       "  <tbody>\n",
       "    <tr>\n",
       "      <th>0</th>\n",
       "      <td>2002-12-31 01:00:00</td>\n",
       "      <td>26498.0</td>\n",
       "    </tr>\n",
       "    <tr>\n",
       "      <th>1</th>\n",
       "      <td>2002-12-31 02:00:00</td>\n",
       "      <td>25147.0</td>\n",
       "    </tr>\n",
       "    <tr>\n",
       "      <th>2</th>\n",
       "      <td>2002-12-31 03:00:00</td>\n",
       "      <td>24574.0</td>\n",
       "    </tr>\n",
       "    <tr>\n",
       "      <th>3</th>\n",
       "      <td>2002-12-31 04:00:00</td>\n",
       "      <td>24393.0</td>\n",
       "    </tr>\n",
       "    <tr>\n",
       "      <th>4</th>\n",
       "      <td>2002-12-31 05:00:00</td>\n",
       "      <td>24860.0</td>\n",
       "    </tr>\n",
       "  </tbody>\n",
       "</table>\n",
       "</div>"
      ],
      "text/plain": [
       "              Datetime  PJME_MW\n",
       "0  2002-12-31 01:00:00  26498.0\n",
       "1  2002-12-31 02:00:00  25147.0\n",
       "2  2002-12-31 03:00:00  24574.0\n",
       "3  2002-12-31 04:00:00  24393.0\n",
       "4  2002-12-31 05:00:00  24860.0"
      ]
     },
     "execution_count": 3,
     "metadata": {},
     "output_type": "execute_result"
    }
   ],
   "source": [
    "df.head()"
   ]
  },
  {
   "cell_type": "code",
   "execution_count": 4,
   "id": "abd65ae1",
   "metadata": {},
   "outputs": [],
   "source": [
    "#change index to date time column\n",
    "df = df.set_index(\"Datetime\")\n",
    "#date time column is an str -- change to date time type\n",
    "df.index = pd.to_datetime(df.index)\n",
    "#sort df using index\n",
    "df = df.sort_index()"
   ]
  },
  {
   "cell_type": "code",
   "execution_count": 5,
   "id": "af7e22ea",
   "metadata": {},
   "outputs": [],
   "source": [
    "#remove any outliers\n",
    "df = df[df[\"PJME_MW\"] > 19000].copy()"
   ]
  },
  {
   "cell_type": "code",
   "execution_count": 8,
   "id": "6b8c2f02",
   "metadata": {},
   "outputs": [
    {
     "data": {
      "text/html": [
       "<div>\n",
       "<style scoped>\n",
       "    .dataframe tbody tr th:only-of-type {\n",
       "        vertical-align: middle;\n",
       "    }\n",
       "\n",
       "    .dataframe tbody tr th {\n",
       "        vertical-align: top;\n",
       "    }\n",
       "\n",
       "    .dataframe thead th {\n",
       "        text-align: right;\n",
       "    }\n",
       "</style>\n",
       "<table border=\"1\" class=\"dataframe\">\n",
       "  <thead>\n",
       "    <tr style=\"text-align: right;\">\n",
       "      <th></th>\n",
       "      <th>PJME_MW</th>\n",
       "      <th>hour</th>\n",
       "      <th>dayofweek</th>\n",
       "      <th>quarter</th>\n",
       "      <th>month</th>\n",
       "      <th>year</th>\n",
       "      <th>dayofyear</th>\n",
       "      <th>dayofmonth</th>\n",
       "      <th>weekofyear</th>\n",
       "      <th>first_lag</th>\n",
       "      <th>second_lag</th>\n",
       "      <th>third_lag</th>\n",
       "    </tr>\n",
       "    <tr>\n",
       "      <th>Datetime</th>\n",
       "      <th></th>\n",
       "      <th></th>\n",
       "      <th></th>\n",
       "      <th></th>\n",
       "      <th></th>\n",
       "      <th></th>\n",
       "      <th></th>\n",
       "      <th></th>\n",
       "      <th></th>\n",
       "      <th></th>\n",
       "      <th></th>\n",
       "      <th></th>\n",
       "    </tr>\n",
       "  </thead>\n",
       "  <tbody>\n",
       "    <tr>\n",
       "      <th>2002-01-01 01:00:00</th>\n",
       "      <td>30393.0</td>\n",
       "      <td>1</td>\n",
       "      <td>1</td>\n",
       "      <td>1</td>\n",
       "      <td>1</td>\n",
       "      <td>2002</td>\n",
       "      <td>1</td>\n",
       "      <td>1</td>\n",
       "      <td>1</td>\n",
       "      <td>NaN</td>\n",
       "      <td>NaN</td>\n",
       "      <td>NaN</td>\n",
       "    </tr>\n",
       "    <tr>\n",
       "      <th>2002-01-01 02:00:00</th>\n",
       "      <td>29265.0</td>\n",
       "      <td>2</td>\n",
       "      <td>1</td>\n",
       "      <td>1</td>\n",
       "      <td>1</td>\n",
       "      <td>2002</td>\n",
       "      <td>1</td>\n",
       "      <td>1</td>\n",
       "      <td>1</td>\n",
       "      <td>NaN</td>\n",
       "      <td>NaN</td>\n",
       "      <td>NaN</td>\n",
       "    </tr>\n",
       "    <tr>\n",
       "      <th>2002-01-01 03:00:00</th>\n",
       "      <td>28357.0</td>\n",
       "      <td>3</td>\n",
       "      <td>1</td>\n",
       "      <td>1</td>\n",
       "      <td>1</td>\n",
       "      <td>2002</td>\n",
       "      <td>1</td>\n",
       "      <td>1</td>\n",
       "      <td>1</td>\n",
       "      <td>NaN</td>\n",
       "      <td>NaN</td>\n",
       "      <td>NaN</td>\n",
       "    </tr>\n",
       "    <tr>\n",
       "      <th>2002-01-01 04:00:00</th>\n",
       "      <td>27899.0</td>\n",
       "      <td>4</td>\n",
       "      <td>1</td>\n",
       "      <td>1</td>\n",
       "      <td>1</td>\n",
       "      <td>2002</td>\n",
       "      <td>1</td>\n",
       "      <td>1</td>\n",
       "      <td>1</td>\n",
       "      <td>NaN</td>\n",
       "      <td>NaN</td>\n",
       "      <td>NaN</td>\n",
       "    </tr>\n",
       "    <tr>\n",
       "      <th>2002-01-01 05:00:00</th>\n",
       "      <td>28057.0</td>\n",
       "      <td>5</td>\n",
       "      <td>1</td>\n",
       "      <td>1</td>\n",
       "      <td>1</td>\n",
       "      <td>2002</td>\n",
       "      <td>1</td>\n",
       "      <td>1</td>\n",
       "      <td>1</td>\n",
       "      <td>NaN</td>\n",
       "      <td>NaN</td>\n",
       "      <td>NaN</td>\n",
       "    </tr>\n",
       "  </tbody>\n",
       "</table>\n",
       "</div>"
      ],
      "text/plain": [
       "                     PJME_MW  hour  dayofweek  quarter  month  year  \\\n",
       "Datetime                                                              \n",
       "2002-01-01 01:00:00  30393.0     1          1        1      1  2002   \n",
       "2002-01-01 02:00:00  29265.0     2          1        1      1  2002   \n",
       "2002-01-01 03:00:00  28357.0     3          1        1      1  2002   \n",
       "2002-01-01 04:00:00  27899.0     4          1        1      1  2002   \n",
       "2002-01-01 05:00:00  28057.0     5          1        1      1  2002   \n",
       "\n",
       "                     dayofyear  dayofmonth  weekofyear  first_lag  second_lag  \\\n",
       "Datetime                                                                        \n",
       "2002-01-01 01:00:00          1           1           1        NaN         NaN   \n",
       "2002-01-01 02:00:00          1           1           1        NaN         NaN   \n",
       "2002-01-01 03:00:00          1           1           1        NaN         NaN   \n",
       "2002-01-01 04:00:00          1           1           1        NaN         NaN   \n",
       "2002-01-01 05:00:00          1           1           1        NaN         NaN   \n",
       "\n",
       "                     third_lag  \n",
       "Datetime                        \n",
       "2002-01-01 01:00:00        NaN  \n",
       "2002-01-01 02:00:00        NaN  \n",
       "2002-01-01 03:00:00        NaN  \n",
       "2002-01-01 04:00:00        NaN  \n",
       "2002-01-01 05:00:00        NaN  "
      ]
     },
     "execution_count": 8,
     "metadata": {},
     "output_type": "execute_result"
    }
   ],
   "source": [
    "df.head()"
   ]
  },
  {
   "cell_type": "code",
   "execution_count": 9,
   "id": "50125af3",
   "metadata": {},
   "outputs": [],
   "source": [
    "#create features for data\n",
    "def create_features(df):\n",
    "    #create a copy of the dataframe\n",
    "    df = df.copy()\n",
    "    #get hourly data\n",
    "    df[\"hour\"] = df.index.hour\n",
    "    #get which day\n",
    "    df[\"dayofweek\"] = df.index.dayofweek\n",
    "    #get the quarter\n",
    "    df[\"quarter\"] = df.index.quarter\n",
    "    #get month\n",
    "    df[\"month\"] = df.index.month\n",
    "    #get year\n",
    "    df[\"year\"] = df.index.year\n",
    "    #get day of year\n",
    "    df[\"dayofyear\"] = df.index.dayofyear\n",
    "    #get day of month\n",
    "    df[\"dayofmonth\"] = df.index.day\n",
    "    #get week of the year\n",
    "    df[\"weekofyear\"] = df.index.isocalendar().week\n",
    "    return df\n",
    "df = create_features(df)"
   ]
  },
  {
   "cell_type": "code",
   "execution_count": 10,
   "id": "ef58ab5e",
   "metadata": {},
   "outputs": [],
   "source": [
    "def add_lags(df):\n",
    "    #convert the series containing PJME_MW to a dict with index as time stamp and key as PJME_MW\n",
    "    target_map = df[\"PJME_MW\"].to_dict()\n",
    "    #first lag features are 1 year ago\n",
    "    df[\"first_lag\"] = (df.index - pd.Timedelta(\"364 days\")).map(target_map)\n",
    "    #second lag features are 2 years ago\n",
    "    df[\"second_lag\"] = (df.index - pd.Timedelta(\"728 days\")).map(target_map)\n",
    "    #third lay features are 3 years ago\n",
    "    df[\"third_lag\"] = (df.index - pd.Timedelta(\"1092 days\")).map(target_map)\n",
    "    return df\n",
    "df = add_lags(df)"
   ]
  },
  {
   "cell_type": "code",
   "execution_count": 11,
   "id": "6e70d8dd",
   "metadata": {},
   "outputs": [],
   "source": [
    "break_point = \"01-01-2015\"\n",
    "train = df.loc[df.index < break_point]\n",
    "test = df.loc[df.index >= break_point]"
   ]
  },
  {
   "cell_type": "code",
   "execution_count": 12,
   "id": "6adddd13",
   "metadata": {},
   "outputs": [
    {
     "data": {
      "text/html": [
       "<div>\n",
       "<style scoped>\n",
       "    .dataframe tbody tr th:only-of-type {\n",
       "        vertical-align: middle;\n",
       "    }\n",
       "\n",
       "    .dataframe tbody tr th {\n",
       "        vertical-align: top;\n",
       "    }\n",
       "\n",
       "    .dataframe thead th {\n",
       "        text-align: right;\n",
       "    }\n",
       "</style>\n",
       "<table border=\"1\" class=\"dataframe\">\n",
       "  <thead>\n",
       "    <tr style=\"text-align: right;\">\n",
       "      <th></th>\n",
       "      <th>PJME_MW</th>\n",
       "      <th>hour</th>\n",
       "      <th>dayofweek</th>\n",
       "      <th>quarter</th>\n",
       "      <th>month</th>\n",
       "      <th>year</th>\n",
       "      <th>dayofyear</th>\n",
       "      <th>dayofmonth</th>\n",
       "      <th>weekofyear</th>\n",
       "      <th>first_lag</th>\n",
       "      <th>second_lag</th>\n",
       "      <th>third_lag</th>\n",
       "    </tr>\n",
       "    <tr>\n",
       "      <th>Datetime</th>\n",
       "      <th></th>\n",
       "      <th></th>\n",
       "      <th></th>\n",
       "      <th></th>\n",
       "      <th></th>\n",
       "      <th></th>\n",
       "      <th></th>\n",
       "      <th></th>\n",
       "      <th></th>\n",
       "      <th></th>\n",
       "      <th></th>\n",
       "      <th></th>\n",
       "    </tr>\n",
       "  </thead>\n",
       "  <tbody>\n",
       "    <tr>\n",
       "      <th>2002-01-01 01:00:00</th>\n",
       "      <td>30393.0</td>\n",
       "      <td>1</td>\n",
       "      <td>1</td>\n",
       "      <td>1</td>\n",
       "      <td>1</td>\n",
       "      <td>2002</td>\n",
       "      <td>1</td>\n",
       "      <td>1</td>\n",
       "      <td>1</td>\n",
       "      <td>NaN</td>\n",
       "      <td>NaN</td>\n",
       "      <td>NaN</td>\n",
       "    </tr>\n",
       "    <tr>\n",
       "      <th>2002-01-01 02:00:00</th>\n",
       "      <td>29265.0</td>\n",
       "      <td>2</td>\n",
       "      <td>1</td>\n",
       "      <td>1</td>\n",
       "      <td>1</td>\n",
       "      <td>2002</td>\n",
       "      <td>1</td>\n",
       "      <td>1</td>\n",
       "      <td>1</td>\n",
       "      <td>NaN</td>\n",
       "      <td>NaN</td>\n",
       "      <td>NaN</td>\n",
       "    </tr>\n",
       "    <tr>\n",
       "      <th>2002-01-01 03:00:00</th>\n",
       "      <td>28357.0</td>\n",
       "      <td>3</td>\n",
       "      <td>1</td>\n",
       "      <td>1</td>\n",
       "      <td>1</td>\n",
       "      <td>2002</td>\n",
       "      <td>1</td>\n",
       "      <td>1</td>\n",
       "      <td>1</td>\n",
       "      <td>NaN</td>\n",
       "      <td>NaN</td>\n",
       "      <td>NaN</td>\n",
       "    </tr>\n",
       "    <tr>\n",
       "      <th>2002-01-01 04:00:00</th>\n",
       "      <td>27899.0</td>\n",
       "      <td>4</td>\n",
       "      <td>1</td>\n",
       "      <td>1</td>\n",
       "      <td>1</td>\n",
       "      <td>2002</td>\n",
       "      <td>1</td>\n",
       "      <td>1</td>\n",
       "      <td>1</td>\n",
       "      <td>NaN</td>\n",
       "      <td>NaN</td>\n",
       "      <td>NaN</td>\n",
       "    </tr>\n",
       "    <tr>\n",
       "      <th>2002-01-01 05:00:00</th>\n",
       "      <td>28057.0</td>\n",
       "      <td>5</td>\n",
       "      <td>1</td>\n",
       "      <td>1</td>\n",
       "      <td>1</td>\n",
       "      <td>2002</td>\n",
       "      <td>1</td>\n",
       "      <td>1</td>\n",
       "      <td>1</td>\n",
       "      <td>NaN</td>\n",
       "      <td>NaN</td>\n",
       "      <td>NaN</td>\n",
       "    </tr>\n",
       "  </tbody>\n",
       "</table>\n",
       "</div>"
      ],
      "text/plain": [
       "                     PJME_MW  hour  dayofweek  quarter  month  year  \\\n",
       "Datetime                                                              \n",
       "2002-01-01 01:00:00  30393.0     1          1        1      1  2002   \n",
       "2002-01-01 02:00:00  29265.0     2          1        1      1  2002   \n",
       "2002-01-01 03:00:00  28357.0     3          1        1      1  2002   \n",
       "2002-01-01 04:00:00  27899.0     4          1        1      1  2002   \n",
       "2002-01-01 05:00:00  28057.0     5          1        1      1  2002   \n",
       "\n",
       "                     dayofyear  dayofmonth  weekofyear  first_lag  second_lag  \\\n",
       "Datetime                                                                        \n",
       "2002-01-01 01:00:00          1           1           1        NaN         NaN   \n",
       "2002-01-01 02:00:00          1           1           1        NaN         NaN   \n",
       "2002-01-01 03:00:00          1           1           1        NaN         NaN   \n",
       "2002-01-01 04:00:00          1           1           1        NaN         NaN   \n",
       "2002-01-01 05:00:00          1           1           1        NaN         NaN   \n",
       "\n",
       "                     third_lag  \n",
       "Datetime                        \n",
       "2002-01-01 01:00:00        NaN  \n",
       "2002-01-01 02:00:00        NaN  \n",
       "2002-01-01 03:00:00        NaN  \n",
       "2002-01-01 04:00:00        NaN  \n",
       "2002-01-01 05:00:00        NaN  "
      ]
     },
     "execution_count": 12,
     "metadata": {},
     "output_type": "execute_result"
    }
   ],
   "source": [
    "train.head()"
   ]
  },
  {
   "cell_type": "code",
   "execution_count": 18,
   "id": "407f5660",
   "metadata": {},
   "outputs": [
    {
     "data": {
      "text/html": [
       "<div>\n",
       "<style scoped>\n",
       "    .dataframe tbody tr th:only-of-type {\n",
       "        vertical-align: middle;\n",
       "    }\n",
       "\n",
       "    .dataframe tbody tr th {\n",
       "        vertical-align: top;\n",
       "    }\n",
       "\n",
       "    .dataframe thead th {\n",
       "        text-align: right;\n",
       "    }\n",
       "</style>\n",
       "<table border=\"1\" class=\"dataframe\">\n",
       "  <thead>\n",
       "    <tr style=\"text-align: right;\">\n",
       "      <th></th>\n",
       "      <th>PJME_MW</th>\n",
       "      <th>hour</th>\n",
       "      <th>dayofweek</th>\n",
       "      <th>quarter</th>\n",
       "      <th>month</th>\n",
       "      <th>year</th>\n",
       "      <th>dayofyear</th>\n",
       "      <th>dayofmonth</th>\n",
       "      <th>weekofyear</th>\n",
       "      <th>first_lag</th>\n",
       "      <th>second_lag</th>\n",
       "      <th>third_lag</th>\n",
       "    </tr>\n",
       "    <tr>\n",
       "      <th>Datetime</th>\n",
       "      <th></th>\n",
       "      <th></th>\n",
       "      <th></th>\n",
       "      <th></th>\n",
       "      <th></th>\n",
       "      <th></th>\n",
       "      <th></th>\n",
       "      <th></th>\n",
       "      <th></th>\n",
       "      <th></th>\n",
       "      <th></th>\n",
       "      <th></th>\n",
       "    </tr>\n",
       "  </thead>\n",
       "  <tbody>\n",
       "    <tr>\n",
       "      <th>2015-01-01 00:00:00</th>\n",
       "      <td>32802.0</td>\n",
       "      <td>0</td>\n",
       "      <td>3</td>\n",
       "      <td>1</td>\n",
       "      <td>1</td>\n",
       "      <td>2015</td>\n",
       "      <td>1</td>\n",
       "      <td>1</td>\n",
       "      <td>1</td>\n",
       "      <td>30159.0</td>\n",
       "      <td>32866.0</td>\n",
       "      <td>33624.0</td>\n",
       "    </tr>\n",
       "    <tr>\n",
       "      <th>2015-12-31 01:00:00</th>\n",
       "      <td>24305.0</td>\n",
       "      <td>1</td>\n",
       "      <td>3</td>\n",
       "      <td>4</td>\n",
       "      <td>12</td>\n",
       "      <td>2015</td>\n",
       "      <td>365</td>\n",
       "      <td>31</td>\n",
       "      <td>53</td>\n",
       "      <td>31647.0</td>\n",
       "      <td>28786.0</td>\n",
       "      <td>31112.0</td>\n",
       "    </tr>\n",
       "    <tr>\n",
       "      <th>2015-12-31 02:00:00</th>\n",
       "      <td>23156.0</td>\n",
       "      <td>2</td>\n",
       "      <td>3</td>\n",
       "      <td>4</td>\n",
       "      <td>12</td>\n",
       "      <td>2015</td>\n",
       "      <td>365</td>\n",
       "      <td>31</td>\n",
       "      <td>53</td>\n",
       "      <td>30755.0</td>\n",
       "      <td>28049.0</td>\n",
       "      <td>30207.0</td>\n",
       "    </tr>\n",
       "    <tr>\n",
       "      <th>2015-12-31 03:00:00</th>\n",
       "      <td>22514.0</td>\n",
       "      <td>3</td>\n",
       "      <td>3</td>\n",
       "      <td>4</td>\n",
       "      <td>12</td>\n",
       "      <td>2015</td>\n",
       "      <td>365</td>\n",
       "      <td>31</td>\n",
       "      <td>53</td>\n",
       "      <td>30189.0</td>\n",
       "      <td>27785.0</td>\n",
       "      <td>29879.0</td>\n",
       "    </tr>\n",
       "    <tr>\n",
       "      <th>2015-12-31 04:00:00</th>\n",
       "      <td>22330.0</td>\n",
       "      <td>4</td>\n",
       "      <td>3</td>\n",
       "      <td>4</td>\n",
       "      <td>12</td>\n",
       "      <td>2015</td>\n",
       "      <td>365</td>\n",
       "      <td>31</td>\n",
       "      <td>53</td>\n",
       "      <td>29890.0</td>\n",
       "      <td>27984.0</td>\n",
       "      <td>29915.0</td>\n",
       "    </tr>\n",
       "  </tbody>\n",
       "</table>\n",
       "</div>"
      ],
      "text/plain": [
       "                     PJME_MW  hour  dayofweek  quarter  month  year  \\\n",
       "Datetime                                                              \n",
       "2015-01-01 00:00:00  32802.0     0          3        1      1  2015   \n",
       "2015-12-31 01:00:00  24305.0     1          3        4     12  2015   \n",
       "2015-12-31 02:00:00  23156.0     2          3        4     12  2015   \n",
       "2015-12-31 03:00:00  22514.0     3          3        4     12  2015   \n",
       "2015-12-31 04:00:00  22330.0     4          3        4     12  2015   \n",
       "\n",
       "                     dayofyear  dayofmonth  weekofyear  first_lag  second_lag  \\\n",
       "Datetime                                                                        \n",
       "2015-01-01 00:00:00          1           1           1    30159.0     32866.0   \n",
       "2015-12-31 01:00:00        365          31          53    31647.0     28786.0   \n",
       "2015-12-31 02:00:00        365          31          53    30755.0     28049.0   \n",
       "2015-12-31 03:00:00        365          31          53    30189.0     27785.0   \n",
       "2015-12-31 04:00:00        365          31          53    29890.0     27984.0   \n",
       "\n",
       "                     third_lag  \n",
       "Datetime                        \n",
       "2015-01-01 00:00:00    33624.0  \n",
       "2015-12-31 01:00:00    31112.0  \n",
       "2015-12-31 02:00:00    30207.0  \n",
       "2015-12-31 03:00:00    29879.0  \n",
       "2015-12-31 04:00:00    29915.0  "
      ]
     },
     "execution_count": 18,
     "metadata": {},
     "output_type": "execute_result"
    }
   ],
   "source": [
    "test.head()"
   ]
  },
  {
   "cell_type": "code",
   "execution_count": null,
   "id": "514a6f4e",
   "metadata": {},
   "outputs": [],
   "source": [
    "#define features for input to model\n",
    "features = list(set(df.columns) - set([\"PJME_MW\"]))\n",
    "target = [\"PJME_MW\"]"
   ]
  },
  {
   "cell_type": "code",
   "execution_count": 17,
   "id": "dbe2a23d",
   "metadata": {},
   "outputs": [],
   "source": [
    "#create train and test for model\n",
    "X_train = train[features]\n",
    "y_train = train[target]\n",
    "X_test = test[features]\n",
    "y_test = test[target]"
   ]
  },
  {
   "cell_type": "code",
   "execution_count": 18,
   "id": "cb2fb228",
   "metadata": {},
   "outputs": [
    {
     "data": {
      "text/html": [
       "<pre style=\"white-space:pre;overflow-x:auto;line-height:normal;font-family:Menlo,'DejaVu Sans Mono',consolas,'Courier New',monospace\">                                       <span style=\"font-weight: bold\">❗❗❗ AUTHORIZATION REQUIRED ❗❗❗</span>                                        \n",
       "</pre>\n"
      ],
      "text/plain": [
       "                                       \u001b[1m❗❗❗ AUTHORIZATION REQUIRED ❗❗❗\u001b[0m                                        \n"
      ]
     },
     "metadata": {},
     "output_type": "display_data"
    },
    {
     "data": {
      "text/html": [
       "<pre style=\"white-space:pre;overflow-x:auto;line-height:normal;font-family:Menlo,'DejaVu Sans Mono',consolas,'Courier New',monospace\">/home/sairaam/anaconda3/envs/learn_mlops/lib/python3.12/site-packages/rich/live.py:231: UserWarning: install \n",
       "\"ipywidgets\" for Jupyter support\n",
       "  warnings.warn('install \"ipywidgets\" for Jupyter support')\n",
       "</pre>\n"
      ],
      "text/plain": [
       "/home/sairaam/anaconda3/envs/learn_mlops/lib/python3.12/site-packages/rich/live.py:231: UserWarning: install \n",
       "\"ipywidgets\" for Jupyter support\n",
       "  warnings.warn('install \"ipywidgets\" for Jupyter support')\n"
      ]
     },
     "metadata": {},
     "output_type": "display_data"
    },
    {
     "name": "stdout",
     "output_type": "stream",
     "text": [
      "\n",
      "\n",
      "Open the following link in your browser to authorize the client:\n",
      "https://dagshub.com/login/oauth/authorize?state=e4f4df76-d115-4897-bdae-5ef56a7921fd&client_id=32b60ba385aa7cecf24046d8195a71c07dd345d9657977863b52e7748e0f0f28&middleman_request_id=a79406b14c438451bdbf3bea5e4e7709b55436f67d2b379197f59f5cbc42938c\n",
      "\n",
      "\n"
     ]
    },
    {
     "name": "stderr",
     "output_type": "stream",
     "text": [
      "gio: https://dagshub.com/login/oauth/authorize?state=e4f4df76-d115-4897-bdae-5ef56a7921fd&client_id=32b60ba385aa7cecf24046d8195a71c07dd345d9657977863b52e7748e0f0f28&middleman_request_id=a79406b14c438451bdbf3bea5e4e7709b55436f67d2b379197f59f5cbc42938c: Operation not supported\n"
     ]
    },
    {
     "data": {
      "text/html": [
       "<pre style=\"white-space:pre;overflow-x:auto;line-height:normal;font-family:Menlo,'DejaVu Sans Mono',consolas,'Courier New',monospace\"></pre>\n"
      ],
      "text/plain": []
     },
     "metadata": {},
     "output_type": "display_data"
    },
    {
     "data": {
      "text/html": [
       "<pre style=\"white-space:pre;overflow-x:auto;line-height:normal;font-family:Menlo,'DejaVu Sans Mono',consolas,'Courier New',monospace\">Accessing as vsairaamresearch\n",
       "</pre>\n"
      ],
      "text/plain": [
       "Accessing as vsairaamresearch\n"
      ]
     },
     "metadata": {},
     "output_type": "display_data"
    },
    {
     "data": {
      "text/html": [
       "<pre style=\"white-space:pre;overflow-x:auto;line-height:normal;font-family:Menlo,'DejaVu Sans Mono',consolas,'Courier New',monospace\">Initialized MLflow to track repo <span style=\"color: #008000; text-decoration-color: #008000\">\"vsairaamresearch/mlops_code_learning\"</span>\n",
       "</pre>\n"
      ],
      "text/plain": [
       "Initialized MLflow to track repo \u001b[32m\"vsairaamresearch/mlops_code_learning\"\u001b[0m\n"
      ]
     },
     "metadata": {},
     "output_type": "display_data"
    },
    {
     "data": {
      "text/html": [
       "<pre style=\"white-space:pre;overflow-x:auto;line-height:normal;font-family:Menlo,'DejaVu Sans Mono',consolas,'Courier New',monospace\">Repository vsairaamresearch/mlops_code_learning initialized!\n",
       "</pre>\n"
      ],
      "text/plain": [
       "Repository vsairaamresearch/mlops_code_learning initialized!\n"
      ]
     },
     "metadata": {},
     "output_type": "display_data"
    }
   ],
   "source": [
    "import dagshub\n",
    "#tracking uri to dagshub\n",
    "mlflow.set_tracking_uri(\"https://dagshub.com/vsairaamresearch/mlops_code_learning.mlflow\")\n",
    "dagshub.init(repo_owner='vsairaamresearch', repo_name='mlops_code_learning', mlflow=True)"
   ]
  },
  {
   "cell_type": "code",
   "execution_count": 19,
   "id": "74880537",
   "metadata": {},
   "outputs": [
    {
     "name": "stderr",
     "output_type": "stream",
     "text": [
      "2025/06/06 11:10:02 INFO mlflow.tracking.fluent: Experiment with name 'XGBOOST n_estimators = 50' does not exist. Creating a new experiment.\n"
     ]
    }
   ],
   "source": [
    "#create and set an experiment\n",
    "e_50_est = mlflow.set_experiment(\"XGBOOST n_estimators = 50\")"
   ]
  },
  {
   "cell_type": "code",
   "execution_count": 20,
   "id": "0213cf57",
   "metadata": {},
   "outputs": [
    {
     "name": "stdout",
     "output_type": "stream",
     "text": [
      "0\n",
      "mlflow-artifacts:/558a0f7930714f39b144f5473d42992e\n",
      "{}\n",
      "active\n"
     ]
    }
   ],
   "source": [
    "print(e_50_est.experiment_id)\n",
    "print(e_50_est.artifact_location)\n",
    "print(e_50_est.tags)\n",
    "print(e_50_est.lifecycle_stage)"
   ]
  },
  {
   "cell_type": "code",
   "execution_count": null,
   "id": "29c84027",
   "metadata": {},
   "outputs": [],
   "source": [
    "import os\n",
    "import logging\n",
    "import time\n",
    "\n",
    "#configure logging\n",
    "logging.basicConfig(level = logging.INFO, format = \"%{asctime}s - %{levelname}s - %{message}s\")\n"
   ]
  }
 ],
 "metadata": {
  "kernelspec": {
   "display_name": "learn_mlops",
   "language": "python",
   "name": "python3"
  },
  "language_info": {
   "codemirror_mode": {
    "name": "ipython",
    "version": 3
   },
   "file_extension": ".py",
   "mimetype": "text/x-python",
   "name": "python",
   "nbconvert_exporter": "python",
   "pygments_lexer": "ipython3",
   "version": "3.12.1"
  }
 },
 "nbformat": 4,
 "nbformat_minor": 5
}
